{
 "cells": [
  {
   "cell_type": "markdown",
   "metadata": {},
   "source": [
    "# Numpy library"
   ]
  },
  {
   "cell_type": "code",
   "execution_count": 2,
   "metadata": {},
   "outputs": [],
   "source": [
    "import numpy as np"
   ]
  },
  {
   "cell_type": "markdown",
   "metadata": {},
   "source": [
    "1. Number of dimension"
   ]
  },
  {
   "cell_type": "code",
   "execution_count": 15,
   "metadata": {},
   "outputs": [
    {
     "name": "stdout",
     "output_type": "stream",
     "text": [
      "number of dimensions:  2\n"
     ]
    }
   ],
   "source": [
    "arr = np.array([[1,2,3,4,5], [4,5,6,7,8]])\n",
    "print(\"number of dimensions: \", arr.ndim)"
   ]
  },
  {
   "cell_type": "code",
   "execution_count": 16,
   "metadata": {},
   "outputs": [
    {
     "name": "stdout",
     "output_type": "stream",
     "text": [
      "Define number of dimension when created:  [[1 2 3]]\n"
     ]
    }
   ],
   "source": [
    "arr = np.array([1,2,3], ndmin = 2)\n",
    "print(\"Define number of dimension when created: \", arr)"
   ]
  },
  {
   "cell_type": "markdown",
   "metadata": {},
   "source": [
    "2. Array indexing"
   ]
  },
  {
   "cell_type": "code",
   "execution_count": 31,
   "metadata": {},
   "outputs": [
    {
     "name": "stdout",
     "output_type": "stream",
     "text": [
      "Number of dimensions:  3\n",
      "Number of First dimension -> number of second dimension -> last number  6\n"
     ]
    }
   ],
   "source": [
    "arr = np.array([\n",
    "                [\n",
    "                    [1, 2, 3], \n",
    "                    [4, 5, 6]\n",
    "                ], \n",
    "                [\n",
    "                    [7, 8, 9], \n",
    "                    [10, 11, 12]\n",
    "                ]\n",
    "            ])\n",
    "print(\"Number of dimensions: \", arr.ndim)\n",
    "print(\"Number of First dimension -> number of second dimension -> last number : \",arr[0,1,-1])"
   ]
  },
  {
   "cell_type": "markdown",
   "metadata": {},
   "source": [
    "3. Array slicing\n",
    "    * `[start:end:step]` : do not include end"
   ]
  },
  {
   "cell_type": "code",
   "execution_count": 37,
   "metadata": {},
   "outputs": [
    {
     "data": {
      "text/plain": [
       "array([[1, 3],\n",
       "       [4, 6]])"
      ]
     },
     "execution_count": 37,
     "metadata": {},
     "output_type": "execute_result"
    }
   ],
   "source": [
    "print(\"Number of first dimension -> slice number from 0 to 1 dimension -> slice with step 2\", arr[0, 0:2, ::2])"
   ]
  },
  {
   "cell_type": "markdown",
   "metadata": {},
   "source": [
    "4. Data type\n",
    "    * `i` - integer\n",
    "    * `b` - boolean\n",
    "    * `u` - unsigned integer\n",
    "    * `f` - float\n",
    "    * `c` - complex float\n",
    "    * `m` - timedelta\n",
    "    * `M` - datetime\n",
    "    * `O` - object\n",
    "    * `S` - string\n",
    "    * `U` - unicode string\n",
    "    * `V` - fixed chunk of memory for other type"
   ]
  },
  {
   "cell_type": "code",
   "execution_count": 39,
   "metadata": {},
   "outputs": [
    {
     "name": "stdout",
     "output_type": "stream",
     "text": [
      "Type of arr:  <class 'numpy.ndarray'>\n",
      "Data type of arr:  int32\n"
     ]
    }
   ],
   "source": [
    "arr = np.array([1,2,3,4])\n",
    "\n",
    "print(\"Type of arr: \",type(arr))\n",
    "print(\"Data type of arr: \",arr.dtype)"
   ]
  },
  {
   "cell_type": "code",
   "execution_count": 44,
   "metadata": {},
   "outputs": [
    {
     "data": {
      "text/plain": [
       "dtype('float32')"
      ]
     },
     "execution_count": 44,
     "metadata": {},
     "output_type": "execute_result"
    }
   ],
   "source": [
    "# Creating arrays with a float data type\n",
    "arr = np.array([1,2,3,4], dtype=\"f\")\n",
    "arr.dtype"
   ]
  },
  {
   "cell_type": "code",
   "execution_count": 46,
   "metadata": {},
   "outputs": [
    {
     "data": {
      "text/plain": [
       "dtype('int32')"
      ]
     },
     "execution_count": 46,
     "metadata": {},
     "output_type": "execute_result"
    }
   ],
   "source": [
    "# Converting data type on existing arr\n",
    "intarr= arr.astype('i')\n",
    "intarr.dtype"
   ]
  },
  {
   "cell_type": "markdown",
   "metadata": {},
   "source": [
    "5. Array copy vs View"
   ]
  },
  {
   "cell_type": "code",
   "execution_count": 51,
   "metadata": {},
   "outputs": [
    {
     "name": "stdout",
     "output_type": "stream",
     "text": [
      "old arr : [  1.   2.   3. 435.] vs new arr : [1464.    2.    3.  435.]\n",
      "newarr own it data?  None\n"
     ]
    }
   ],
   "source": [
    "newarr = arr.copy()\n",
    "newarr[0] = 1464\n",
    "print(f\"old arr : {arr} vs new arr : {newarr}\")\n",
    "print(\"newarr own it data? \", newarr.base)"
   ]
  },
  {
   "cell_type": "code",
   "execution_count": 52,
   "metadata": {},
   "outputs": [
    {
     "name": "stdout",
     "output_type": "stream",
     "text": [
      "old arr : [  1.   2.   3. 435.] vs view arr : [  1.   2.   3. 435.]\n",
      "view own it data?  [  1.   2.   3. 435.]\n"
     ]
    }
   ],
   "source": [
    "viewarr = arr.view()\n",
    "viewarr[-1] = 435\n",
    "print(f\"old arr : {arr} vs view arr : {viewarr}\")\n",
    "print(\"view own it data? \", viewarr.base)"
   ]
  },
  {
   "cell_type": "markdown",
   "metadata": {},
   "source": [
    "6. Array Shape\n",
    "\n",
    "    The number of elements in each dimension"
   ]
  },
  {
   "cell_type": "code",
   "execution_count": 55,
   "metadata": {},
   "outputs": [
    {
     "name": "stdout",
     "output_type": "stream",
     "text": [
      "Shape of array:  (2, 2, 2)\n"
     ]
    }
   ],
   "source": [
    "arr = np.array([[[1,2],[3,4]], [[5,6],[7,8]]])\n",
    "print(\"Shape of array: \", arr.shape)"
   ]
  },
  {
   "cell_type": "markdown",
   "metadata": {},
   "source": [
    "7. Array reshaping\n",
    "\n",
    "    Return view **not copy**\n",
    "    You can pass -1 so Numpy will calculate this number"
   ]
  },
  {
   "cell_type": "code",
   "execution_count": 61,
   "metadata": {},
   "outputs": [
    {
     "name": "stdout",
     "output_type": "stream",
     "text": [
      "2 rows with 4 columns [[1 2 3 4]\n",
      " [5 6 7 8]]\n",
      "[[[1 2]\n",
      "  [3 4]]\n",
      "\n",
      " [[5 6]\n",
      "  [7 8]]]\n"
     ]
    }
   ],
   "source": [
    "arr = np.array([1,2,3,4,5,6,7,8])\n",
    "twoDarr = arr.reshape(2,4)\n",
    "print(\"2 rows with 4 columns\", twoDarr)\n",
    "threeDarr = arr.reshape(2,2,2)\n",
    "print(threeDarr)"
   ]
  },
  {
   "cell_type": "markdown",
   "metadata": {},
   "source": [
    "8. Array iterating\n",
    "\n",
    "    `nditer()` deep iter: iterating on each scalar element\n",
    "    \n",
    "    `ndenumerate()`: return index type typle and value"
   ]
  },
  {
   "cell_type": "code",
   "execution_count": 69,
   "metadata": {},
   "outputs": [
    {
     "name": "stdout",
     "output_type": "stream",
     "text": [
      "1\n",
      "2\n",
      "3\n",
      "4\n",
      "5\n",
      "6\n",
      "7\n",
      "8\n",
      "(0, 0):1\n",
      "(0, 1):2\n",
      "(0, 2):3\n",
      "(0, 3):4\n",
      "(1, 0):5\n",
      "(1, 1):6\n",
      "(1, 2):7\n",
      "(1, 3):8\n"
     ]
    }
   ],
   "source": [
    "arr = np.array([[1,2,3,4], [5,6,7,8]])\n",
    "\n",
    "for x in np.nditer(arr):\n",
    "    print(x)\n",
    "    \n",
    "for idx, x in np.ndenumerate(arr):\n",
    "    print(idx, x, sep=\":\")"
   ]
  },
  {
   "cell_type": "markdown",
   "metadata": {},
   "source": [
    "9. Joining array\n",
    "\n",
    "    Numpy join arrays. `concatenate()`, `stack()`, `hstack()`, `vstack()`, `dstack()`"
   ]
  },
  {
   "cell_type": "code",
   "execution_count": 106,
   "metadata": {},
   "outputs": [
    {
     "name": "stdout",
     "output_type": "stream",
     "text": [
      "[[1 2 5 6]\n",
      " [3 4 7 8]]\n"
     ]
    }
   ],
   "source": [
    "arr1 = np.array([[1,2], [3,4]])\n",
    "arr2 = np.array([[5,6], [7,8]])\n",
    "\n",
    "arr = np.concatenate((arr1, arr2), axis=1)\n",
    "print(arr)"
   ]
  },
  {
   "cell_type": "code",
   "execution_count": 107,
   "metadata": {},
   "outputs": [
    {
     "name": "stdout",
     "output_type": "stream",
     "text": [
      "[[1 2]\n",
      " [3 4]\n",
      " [5 6]\n",
      " [7 8]]\n"
     ]
    }
   ],
   "source": [
    "arr = np.concatenate((arr1, arr2), axis=0)\n",
    "print(arr)"
   ]
  },
  {
   "cell_type": "markdown",
   "metadata": {},
   "source": [
    "`stack()` is same as concatenation, the only diference is that stacking is done along new asis"
   ]
  },
  {
   "cell_type": "code",
   "execution_count": 113,
   "metadata": {},
   "outputs": [
    {
     "data": {
      "text/plain": [
       "array([[1, 4],\n",
       "       [2, 5],\n",
       "       [3, 6]])"
      ]
     },
     "execution_count": 113,
     "metadata": {},
     "output_type": "execute_result"
    }
   ],
   "source": [
    "arr1 = np.array([1,2,3])\n",
    "arr2 = np.array([4,5,6])\n",
    "\n",
    "arr = np.stack((arr1, arr2), axis=1)\n",
    "arr"
   ]
  },
  {
   "cell_type": "markdown",
   "metadata": {},
   "source": [
    "`hstack()` to stack along rows, `vstack()` to stack along column and `dstack()` to stack along height"
   ]
  },
  {
   "cell_type": "code",
   "execution_count": 119,
   "metadata": {},
   "outputs": [
    {
     "name": "stdout",
     "output_type": "stream",
     "text": [
      "Using hstack:  [1 2 3 4 5 6]\n",
      "Using vstack:  [[1 2 3]\n",
      " [4 5 6]]\n",
      "Using dstack [1 2 3 4 5 6]\n"
     ]
    }
   ],
   "source": [
    "harr = np.hstack((arr1, arr2))\n",
    "print(\"Using hstack: \",harr)\n",
    "varr = np.vstack((arr1, arr2))\n",
    "print(\"Using vstack: \",varr)\n",
    "darr = np.hstack((arr1, arr2))\n",
    "print(\"Using dstack\",darr)"
   ]
  },
  {
   "cell_type": "markdown",
   "metadata": {},
   "source": [
    "10. Splitting numpy arrays\n",
    "\n",
    "    `array_split()`, `hsplit`, `vsplit()`, `dsplit()`"
   ]
  },
  {
   "cell_type": "code",
   "execution_count": 108,
   "metadata": {},
   "outputs": [
    {
     "data": {
      "text/plain": [
       "[array([1, 2, 3]), array([4, 5, 6])]"
      ]
     },
     "execution_count": 108,
     "metadata": {},
     "output_type": "execute_result"
    }
   ],
   "source": [
    "# 1-D split\n",
    "arr = np.array([1,2,3,4,5,6])\n",
    "newarr = np.array_split(arr, 2)\n",
    "newarr"
   ]
  },
  {
   "cell_type": "code",
   "execution_count": 109,
   "metadata": {},
   "outputs": [
    {
     "data": {
      "text/plain": [
       "[array([[1, 2],\n",
       "        [3, 4]]),\n",
       " array([[5, 6],\n",
       "        [7, 8]])]"
      ]
     },
     "execution_count": 109,
     "metadata": {},
     "output_type": "execute_result"
    }
   ],
   "source": [
    "# 2D split\n",
    "arr = np.array([[1, 2, 5, 6],\n",
    "       [3, 4, 7, 8]])\n",
    "newarr = (np.array_split(arr, 2, axis=1))\n",
    "newarr"
   ]
  },
  {
   "cell_type": "code",
   "execution_count": 111,
   "metadata": {},
   "outputs": [
    {
     "name": "stdout",
     "output_type": "stream",
     "text": [
      "[array([[1, 2],\n",
      "       [3, 4]]), array([[5, 6],\n",
      "       [7, 8]])]\n"
     ]
    }
   ],
   "source": [
    "arr = np.array([[1, 2],\n",
    "                 [3, 4],\n",
    "                 [5, 6],\n",
    "                 [7, 8]])\n",
    "\n",
    "newarr = np.array_split(arr, 2, axis=0)\n",
    "\n",
    "print(newarr)"
   ]
  },
  {
   "cell_type": "code",
   "execution_count": 122,
   "metadata": {},
   "outputs": [
    {
     "data": {
      "text/plain": [
       "[array([1, 2, 3]), array([4, 5, 6])]"
      ]
     },
     "execution_count": 122,
     "metadata": {},
     "output_type": "execute_result"
    }
   ],
   "source": [
    "# hsplit\n",
    "arr = np.array([1, 2, 3, 4, 5, 6])\n",
    "harr = np.hsplit(arr, 2)\n",
    "harr"
   ]
  },
  {
   "cell_type": "code",
   "execution_count": 124,
   "metadata": {},
   "outputs": [
    {
     "data": {
      "text/plain": [
       "[array([[1, 2, 3]]), array([[4, 5, 6]])]"
      ]
     },
     "execution_count": 124,
     "metadata": {},
     "output_type": "execute_result"
    }
   ],
   "source": [
    "# vsplit\n",
    "arr = np.array([[1, 2, 3],\n",
    " [4, 5, 6]])\n",
    "harr = np.vsplit(arr, 2)\n",
    "harr"
   ]
  },
  {
   "cell_type": "markdown",
   "metadata": {},
   "source": [
    "11. Searching arrays"
   ]
  },
  {
   "cell_type": "code",
   "execution_count": 128,
   "metadata": {},
   "outputs": [
    {
     "name": "stdout",
     "output_type": "stream",
     "text": [
      "index of element 4 (array([3], dtype=int64),)\n",
      "index of element mod 2 = 0 (array([1, 3, 5], dtype=int64),)\n"
     ]
    }
   ],
   "source": [
    "arr = np.array([1, 2, 3, 4, 5, 6])\n",
    "# index of element 4\n",
    "print(\"index of element 4\", np.where(arr == 4))\n",
    "# index of element mod 2 = 0\n",
    "print(\"index of element mod 2 = 0\", np.where(arr % 2 == 0))"
   ]
  },
  {
   "cell_type": "code",
   "execution_count": 129,
   "metadata": {},
   "outputs": [
    {
     "name": "stdout",
     "output_type": "stream",
     "text": [
      "[1 3 5]\n"
     ]
    }
   ],
   "source": [
    "# searchsorted() perform a binary search\n",
    "print(np.searchsorted(arr, [2, 4, 6]))"
   ]
  },
  {
   "cell_type": "markdown",
   "metadata": {},
   "source": [
    "12. Sorting array"
   ]
  },
  {
   "cell_type": "code",
   "execution_count": 131,
   "metadata": {},
   "outputs": [
    {
     "name": "stdout",
     "output_type": "stream",
     "text": [
      "[[ 1  4  5]\n",
      " [ 0  2 54]]\n"
     ]
    }
   ],
   "source": [
    "arr = np.array([[4,1,5],[0,54,2]])\n",
    "print(np.sort(arr))"
   ]
  },
  {
   "cell_type": "markdown",
   "metadata": {},
   "source": [
    "13. Filter array"
   ]
  },
  {
   "cell_type": "code",
   "execution_count": 134,
   "metadata": {},
   "outputs": [
    {
     "data": {
      "text/plain": [
       "array([False, False, False,  True,  True,  True])"
      ]
     },
     "execution_count": 134,
     "metadata": {},
     "output_type": "execute_result"
    }
   ],
   "source": [
    "arr = np.array([1, 2, 3, 4, 5, 6])\n",
    "newarr = arr > 3\n",
    "newarr"
   ]
  },
  {
   "cell_type": "markdown",
   "metadata": {},
   "source": [
    "14. Randon numbers"
   ]
  },
  {
   "cell_type": "code",
   "execution_count": 135,
   "metadata": {},
   "outputs": [],
   "source": [
    "from numpy import random"
   ]
  },
  {
   "cell_type": "code",
   "execution_count": 156,
   "metadata": {},
   "outputs": [
    {
     "name": "stdout",
     "output_type": "stream",
     "text": [
      "[[14 94 45]\n",
      " [17 82 12]]\n"
     ]
    }
   ],
   "source": [
    "# rand from 10 to 99 with size (2 rows,3 columns)\n",
    "print(random.randint(10, 100, (2,3)))"
   ]
  },
  {
   "cell_type": "code",
   "execution_count": 176,
   "metadata": {},
   "outputs": [],
   "source": [
    "# random float between 0 and 1 with size (3 rows, 2 columns)\n",
    "arr = random.rand(3, 2)"
   ]
  },
  {
   "cell_type": "code",
   "execution_count": 188,
   "metadata": {},
   "outputs": [
    {
     "data": {
      "text/plain": [
       "array([[4, 4],\n",
       "       [1, 1],\n",
       "       [3, 4]])"
      ]
     },
     "execution_count": 188,
     "metadata": {},
     "output_type": "execute_result"
    }
   ],
   "source": [
    "x = random.choice([3,55,2,1,4,], size=(3,2))\n",
    "x"
   ]
  },
  {
   "cell_type": "code",
   "execution_count": 191,
   "metadata": {},
   "outputs": [
    {
     "data": {
      "text/plain": [
       "array([1, 1, 1, 1, 1, 1, 1, 1, 1, 1])"
      ]
     },
     "execution_count": 191,
     "metadata": {},
     "output_type": "execute_result"
    }
   ],
   "source": [
    "#random data with distributed\n",
    "x = random.choice([1,2], p = [1, 0], size=10)\n",
    "x"
   ]
  },
  {
   "cell_type": "code",
   "execution_count": 195,
   "metadata": {},
   "outputs": [
    {
     "name": "stdout",
     "output_type": "stream",
     "text": [
      "[4 1 2]\n",
      "[1 4 2]\n"
     ]
    }
   ],
   "source": [
    "# shuffle mean change arrangement of element in-place\n",
    "# permutation() mean random permuation of element of following array\n",
    "arr = np.array([1,2,4])\n",
    "random.shuffle(arr)\n",
    "print(arr)\n",
    "\n",
    "perarr = random.permutation(arr)\n",
    "print(perarr)"
   ]
  },
  {
   "cell_type": "code",
   "execution_count": null,
   "metadata": {},
   "outputs": [],
   "source": []
  }
 ],
 "metadata": {
  "kernelspec": {
   "display_name": "Python 3",
   "language": "python",
   "name": "python3"
  },
  "language_info": {
   "codemirror_mode": {
    "name": "ipython",
    "version": 3
   },
   "file_extension": ".py",
   "mimetype": "text/x-python",
   "name": "python",
   "nbconvert_exporter": "python",
   "pygments_lexer": "ipython3",
   "version": "3.8.3"
  }
 },
 "nbformat": 4,
 "nbformat_minor": 4
}
